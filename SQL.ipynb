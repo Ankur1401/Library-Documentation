{
 "cells": [
  {
   "cell_type": "markdown",
   "metadata": {},
   "source": [
    "<br><br>\n",
    "<b><font size=100>SQL</font></b>\n",
    "<br>\n",
    "<br>\n",
    "By अंkur गोswami\n",
    "____"
   ]
  },
  {
   "cell_type": "code",
   "execution_count": 1,
   "metadata": {
    "hide_input": true
   },
   "outputs": [],
   "source": [
    "import sqlite3 as sql"
   ]
  },
  {
   "cell_type": "code",
   "execution_count": 2,
   "metadata": {
    "hide_input": false
   },
   "outputs": [],
   "source": [
    "class Query:\n",
    "    def __init__(self, path):\n",
    "        self.path=path\n",
    "    def run(self, query):\n",
    "        conn=sql.connect(self.path)\n",
    "        cur=conn.execute(query)\n",
    "        result=cur.fetchall()\n",
    "        result.insert(0,tuple(i[0] for i in cur.description))\n",
    "        conn.close()\n",
    "        return result"
   ]
  },
  {
   "cell_type": "code",
   "execution_count": 3,
   "metadata": {
    "hide_input": false,
    "tags": []
   },
   "outputs": [],
   "source": [
    "query=Query('DEPT_EMP.db')"
   ]
  },
  {
   "cell_type": "markdown",
   "metadata": {},
   "source": [
    "## SELECT Clause\n",
    "The SELECT statement is used to select data FROM a database. The data returned is stored in a result table, called the result-set."
   ]
  },
  {
   "cell_type": "markdown",
   "metadata": {},
   "source": [
    "___SELECT * FROM EMP;___"
   ]
  },
  {
   "cell_type": "code",
   "execution_count": 4,
   "metadata": {
    "hide_input": true,
    "tags": [
     "hide-input"
    ]
   },
   "outputs": [
    {
     "data": {
      "text/plain": [
       "[('EMPNO', 'ENAME', 'JOB', 'MGR', 'HIREDATE', 'SAL', 'COMM', 'DEPTNO'),\n",
       " (7369, 'SMITH', 'CLERK', 7902, '93/6/13', 800, 0, 20),\n",
       " (7499, 'ALLEN', 'SALESMAN', 7698, '98/8/15', 1600, 300, 30),\n",
       " (7521, 'WARD', 'SALESMAN', 7698, '96/3/26', 1250, 500, 30),\n",
       " (7566, 'JONES', 'MANAGER', 7839, '95/10/31', 2975, None, 20),\n",
       " (7698, 'BLAKE', 'MANAGER', 7839, '92/6/11', 2850, None, 30),\n",
       " (7782, 'CLARK', 'MANAGER', 7839, '93/5/14', 2450, None, 10),\n",
       " (7788, 'SCOTT', 'ANALYST', 7566, '96/3/5', 3000, None, 20),\n",
       " (7839, 'KING', 'PRESIDENT', None, '90/6/9', 5000, 0, 10),\n",
       " (7844, 'TURNER', 'SALESMAN', 7698, '95/6/4', 1500, 0, 30),\n",
       " (7876, 'ADAMS', 'CLERK', 7788, '99/6/4', 1100, None, 20),\n",
       " (7900, 'JAMES', 'CLERK', 7698, '00/6/23', 950, None, 30),\n",
       " (7934, 'MILLER', 'CLERK', 7782, '00/1/21', 1300, None, 10),\n",
       " (7902, 'FORD', 'ANALYST', 7566, '97/12/5', 3000, None, 20),\n",
       " (7654, 'MARTIN', 'SALESMAN', 7698, '98/12/5', 1250, 1400, 30)]"
      ]
     },
     "execution_count": 4,
     "metadata": {},
     "output_type": "execute_result"
    }
   ],
   "source": [
    "query.run('SELECT * FROM EMP;')"
   ]
  },
  {
   "cell_type": "markdown",
   "metadata": {},
   "source": [
    "___SELECT SAL FROM EMP;___"
   ]
  },
  {
   "cell_type": "code",
   "execution_count": 5,
   "metadata": {
    "hide_input": true
   },
   "outputs": [
    {
     "data": {
      "text/plain": [
       "[('SAL',),\n",
       " (800,),\n",
       " (1600,),\n",
       " (1250,),\n",
       " (2975,),\n",
       " (2850,),\n",
       " (2450,),\n",
       " (3000,),\n",
       " (5000,),\n",
       " (1500,),\n",
       " (1100,),\n",
       " (950,),\n",
       " (1300,),\n",
       " (3000,),\n",
       " (1250,)]"
      ]
     },
     "execution_count": 5,
     "metadata": {},
     "output_type": "execute_result"
    }
   ],
   "source": [
    "query.run('SELECT SAL FROM EMP;')"
   ]
  },
  {
   "cell_type": "markdown",
   "metadata": {},
   "source": [
    "___SELECT ENAME, SAL FROM EMP;___"
   ]
  },
  {
   "cell_type": "code",
   "execution_count": 6,
   "metadata": {
    "hide_input": true
   },
   "outputs": [
    {
     "data": {
      "text/plain": [
       "[('ENAME', 'SAL'),\n",
       " ('SMITH', 800),\n",
       " ('ALLEN', 1600),\n",
       " ('WARD', 1250),\n",
       " ('JONES', 2975),\n",
       " ('BLAKE', 2850),\n",
       " ('CLARK', 2450),\n",
       " ('SCOTT', 3000),\n",
       " ('KING', 5000),\n",
       " ('TURNER', 1500),\n",
       " ('ADAMS', 1100),\n",
       " ('JAMES', 950),\n",
       " ('MILLER', 1300),\n",
       " ('FORD', 3000),\n",
       " ('MARTIN', 1250)]"
      ]
     },
     "execution_count": 6,
     "metadata": {},
     "output_type": "execute_result"
    }
   ],
   "source": [
    "query.run('SELECT ENAME, SAL FROM EMP;')"
   ]
  },
  {
   "cell_type": "markdown",
   "metadata": {},
   "source": [
    "## WHERE Clause\n",
    "The WHERE clause is used to filter records. The WHERE clause is used to extract only those records that fulfill a specified condition."
   ]
  },
  {
   "cell_type": "markdown",
   "metadata": {},
   "source": [
    "### Comparison Operators:\n",
    "Equal to: `=`<br>\n",
    "Not equal to: `!=` and `<>`\n",
    "Greater than: `>`<br>\n",
    "Less than: `<`<br>\n",
    "Greater than or equal to: `>=`<br>\n",
    "Less than or equal to: `<=`<br>"
   ]
  },
  {
   "cell_type": "markdown",
   "metadata": {},
   "source": [
    "___SELECT * FROM EMP <br>\n",
    "WHERE JOB = 'MANAGER';___<br>"
   ]
  },
  {
   "cell_type": "code",
   "execution_count": 7,
   "metadata": {
    "hide_input": true
   },
   "outputs": [
    {
     "data": {
      "text/plain": [
       "[('EMPNO', 'ENAME', 'JOB', 'MGR', 'HIREDATE', 'SAL', 'COMM', 'DEPTNO'),\n",
       " (7566, 'JONES', 'MANAGER', 7839, '95/10/31', 2975, None, 20),\n",
       " (7698, 'BLAKE', 'MANAGER', 7839, '92/6/11', 2850, None, 30),\n",
       " (7782, 'CLARK', 'MANAGER', 7839, '93/5/14', 2450, None, 10)]"
      ]
     },
     "execution_count": 7,
     "metadata": {},
     "output_type": "execute_result"
    }
   ],
   "source": [
    "query.run('''SELECT * FROM EMP\n",
    "            WHERE JOB='MANAGER';''')"
   ]
  },
  {
   "cell_type": "markdown",
   "metadata": {},
   "source": [
    "## AND operator\n",
    "The AND operator displays a record if all the conditions separated by AND are TRUE."
   ]
  },
  {
   "cell_type": "markdown",
   "metadata": {},
   "source": [
    "___SELECT * FROM EMP<br>\n",
    "WHERE JOB='SALESMAN'<br>\n",
    "AND SAL>=1300;<br>___"
   ]
  },
  {
   "cell_type": "code",
   "execution_count": 8,
   "metadata": {
    "hide_input": true
   },
   "outputs": [
    {
     "data": {
      "text/plain": [
       "[('EMPNO', 'ENAME', 'JOB', 'MGR', 'HIREDATE', 'SAL', 'COMM', 'DEPTNO'),\n",
       " (7499, 'ALLEN', 'SALESMAN', 7698, '98/8/15', 1600, 300, 30),\n",
       " (7844, 'TURNER', 'SALESMAN', 7698, '95/6/4', 1500, 0, 30)]"
      ]
     },
     "execution_count": 8,
     "metadata": {},
     "output_type": "execute_result"
    }
   ],
   "source": [
    "query.run('''SELECT * FROM EMP\n",
    "            WHERE JOB='SALESMAN'\n",
    "            AND SAL>=1300;\n",
    "            ''')"
   ]
  },
  {
   "cell_type": "markdown",
   "metadata": {},
   "source": [
    "## OR operator\n",
    "The OR operator displays a record if any of the conditions separated by OR is TRUE."
   ]
  },
  {
   "cell_type": "markdown",
   "metadata": {},
   "source": [
    "___SELECT * FROM EMP<br>\n",
    "WHERE JOB='SALESMAN'<br>\n",
    "OR SAL>=1300;<br>___"
   ]
  },
  {
   "cell_type": "code",
   "execution_count": 9,
   "metadata": {
    "hide_input": true
   },
   "outputs": [
    {
     "data": {
      "text/plain": [
       "[('EMPNO', 'ENAME', 'JOB', 'MGR', 'HIREDATE', 'SAL', 'COMM', 'DEPTNO'),\n",
       " (7499, 'ALLEN', 'SALESMAN', 7698, '98/8/15', 1600, 300, 30),\n",
       " (7521, 'WARD', 'SALESMAN', 7698, '96/3/26', 1250, 500, 30),\n",
       " (7566, 'JONES', 'MANAGER', 7839, '95/10/31', 2975, None, 20),\n",
       " (7698, 'BLAKE', 'MANAGER', 7839, '92/6/11', 2850, None, 30),\n",
       " (7782, 'CLARK', 'MANAGER', 7839, '93/5/14', 2450, None, 10),\n",
       " (7788, 'SCOTT', 'ANALYST', 7566, '96/3/5', 3000, None, 20),\n",
       " (7839, 'KING', 'PRESIDENT', None, '90/6/9', 5000, 0, 10),\n",
       " (7844, 'TURNER', 'SALESMAN', 7698, '95/6/4', 1500, 0, 30),\n",
       " (7934, 'MILLER', 'CLERK', 7782, '00/1/21', 1300, None, 10),\n",
       " (7902, 'FORD', 'ANALYST', 7566, '97/12/5', 3000, None, 20),\n",
       " (7654, 'MARTIN', 'SALESMAN', 7698, '98/12/5', 1250, 1400, 30)]"
      ]
     },
     "execution_count": 9,
     "metadata": {},
     "output_type": "execute_result"
    }
   ],
   "source": [
    "query.run('''SELECT * FROM EMP\n",
    "            WHERE JOB='SALESMAN'\n",
    "            OR SAL>=1300;\n",
    "            ''')"
   ]
  },
  {
   "cell_type": "markdown",
   "metadata": {},
   "source": [
    "___SELECT ENAME FROM EMP<br>\n",
    "WHERE (JOB <> MANAGER AND JOB != SALESMAN)<br>\n",
    "AND SAL >= 2000;___<br>"
   ]
  },
  {
   "cell_type": "code",
   "execution_count": 10,
   "metadata": {
    "hide_input": true
   },
   "outputs": [
    {
     "data": {
      "text/plain": [
       "[('ENAME',), ('SCOTT',), ('KING',), ('FORD',)]"
      ]
     },
     "execution_count": 10,
     "metadata": {},
     "output_type": "execute_result"
    }
   ],
   "source": [
    "query.run('''SELECT ENAME FROM EMP\n",
    "            WHERE (JOB <> 'MANAGER' AND JOB != 'SALESMAN')\n",
    "            AND SAL >= 2000;\n",
    "        ''')"
   ]
  },
  {
   "cell_type": "markdown",
   "metadata": {},
   "source": [
    "## IN operator\n",
    "The IN operator allows you to specify multiple values in a WHERE clause. The IN operator is a shorthand for multiple OR conditions."
   ]
  },
  {
   "cell_type": "markdown",
   "metadata": {},
   "source": [
    "___SELECT * FROM EMP<br>\n",
    "WHERE JOB IN ('ANALYST','CLERK');___<br>"
   ]
  },
  {
   "cell_type": "code",
   "execution_count": 11,
   "metadata": {
    "hide_input": true
   },
   "outputs": [
    {
     "data": {
      "text/plain": [
       "[('EMPNO', 'ENAME', 'JOB', 'MGR', 'HIREDATE', 'SAL', 'COMM', 'DEPTNO'),\n",
       " (7369, 'SMITH', 'CLERK', 7902, '93/6/13', 800, 0, 20),\n",
       " (7788, 'SCOTT', 'ANALYST', 7566, '96/3/5', 3000, None, 20),\n",
       " (7876, 'ADAMS', 'CLERK', 7788, '99/6/4', 1100, None, 20),\n",
       " (7900, 'JAMES', 'CLERK', 7698, '00/6/23', 950, None, 30),\n",
       " (7934, 'MILLER', 'CLERK', 7782, '00/1/21', 1300, None, 10),\n",
       " (7902, 'FORD', 'ANALYST', 7566, '97/12/5', 3000, None, 20)]"
      ]
     },
     "execution_count": 11,
     "metadata": {},
     "output_type": "execute_result"
    }
   ],
   "source": [
    "query.run('''SELECT * FROM EMP\n",
    "            WHERE JOB IN ('ANALYST','CLERK');\n",
    "            ''')"
   ]
  },
  {
   "cell_type": "markdown",
   "metadata": {},
   "source": [
    "## BETWEEN operator\n",
    "The BETWEEN operator selects values within a given range. The values can be numbers, text, or dates. The BETWEEN operator is inclusive: begin and end values are included."
   ]
  },
  {
   "cell_type": "markdown",
   "metadata": {},
   "source": [
    "___SELECT * FROM EMP<br>\n",
    "WHERE HIREDATE BETWEEN '93/5/14' AND '99/6/4';___<br>"
   ]
  },
  {
   "cell_type": "code",
   "execution_count": 12,
   "metadata": {
    "hide_input": true
   },
   "outputs": [
    {
     "data": {
      "text/plain": [
       "[('EMPNO', 'ENAME', 'JOB', 'MGR', 'HIREDATE', 'SAL', 'COMM', 'DEPTNO'),\n",
       " (7369, 'SMITH', 'CLERK', 7902, '93/6/13', 800, 0, 20),\n",
       " (7499, 'ALLEN', 'SALESMAN', 7698, '98/8/15', 1600, 300, 30),\n",
       " (7521, 'WARD', 'SALESMAN', 7698, '96/3/26', 1250, 500, 30),\n",
       " (7566, 'JONES', 'MANAGER', 7839, '95/10/31', 2975, None, 20),\n",
       " (7782, 'CLARK', 'MANAGER', 7839, '93/5/14', 2450, None, 10),\n",
       " (7788, 'SCOTT', 'ANALYST', 7566, '96/3/5', 3000, None, 20),\n",
       " (7844, 'TURNER', 'SALESMAN', 7698, '95/6/4', 1500, 0, 30),\n",
       " (7876, 'ADAMS', 'CLERK', 7788, '99/6/4', 1100, None, 20),\n",
       " (7902, 'FORD', 'ANALYST', 7566, '97/12/5', 3000, None, 20),\n",
       " (7654, 'MARTIN', 'SALESMAN', 7698, '98/12/5', 1250, 1400, 30)]"
      ]
     },
     "execution_count": 12,
     "metadata": {},
     "output_type": "execute_result"
    }
   ],
   "source": [
    "query.run('''SELECT * FROM EMP\n",
    "            WHERE HIREDATE BETWEEN '93/5/14' AND '99/6/4';\n",
    "            ''')"
   ]
  },
  {
   "cell_type": "markdown",
   "metadata": {},
   "source": [
    "## NOT operator\n",
    "The NOT operator displays a record if the condition(s) is NOT TRUE."
   ]
  },
  {
   "cell_type": "markdown",
   "metadata": {},
   "source": [
    "___SELECT * FROM EMP<br>\n",
    "WHERE JOB NOT IN ('ANALYST','CLERK');___<br>"
   ]
  },
  {
   "cell_type": "code",
   "execution_count": 13,
   "metadata": {
    "hide_input": true
   },
   "outputs": [
    {
     "data": {
      "text/plain": [
       "[('EMPNO', 'ENAME', 'JOB', 'MGR', 'HIREDATE', 'SAL', 'COMM', 'DEPTNO'),\n",
       " (7499, 'ALLEN', 'SALESMAN', 7698, '98/8/15', 1600, 300, 30),\n",
       " (7521, 'WARD', 'SALESMAN', 7698, '96/3/26', 1250, 500, 30),\n",
       " (7566, 'JONES', 'MANAGER', 7839, '95/10/31', 2975, None, 20),\n",
       " (7698, 'BLAKE', 'MANAGER', 7839, '92/6/11', 2850, None, 30),\n",
       " (7782, 'CLARK', 'MANAGER', 7839, '93/5/14', 2450, None, 10),\n",
       " (7839, 'KING', 'PRESIDENT', None, '90/6/9', 5000, 0, 10),\n",
       " (7844, 'TURNER', 'SALESMAN', 7698, '95/6/4', 1500, 0, 30),\n",
       " (7654, 'MARTIN', 'SALESMAN', 7698, '98/12/5', 1250, 1400, 30)]"
      ]
     },
     "execution_count": 13,
     "metadata": {},
     "output_type": "execute_result"
    }
   ],
   "source": [
    "query.run('''SELECT * FROM EMP\n",
    "            WHERE JOB NOT IN ('ANALYST','CLERK');\n",
    "            ''')"
   ]
  },
  {
   "cell_type": "markdown",
   "metadata": {},
   "source": [
    "___SELECT * FROM EMP<br>\n",
    "WHERE HIREDATE NOT BETWEEN '93/5/14' AND '99/6/4';___<br>"
   ]
  },
  {
   "cell_type": "code",
   "execution_count": 14,
   "metadata": {
    "hide_input": true
   },
   "outputs": [
    {
     "data": {
      "text/plain": [
       "[('EMPNO', 'ENAME', 'JOB', 'MGR', 'HIREDATE', 'SAL', 'COMM', 'DEPTNO'),\n",
       " (7698, 'BLAKE', 'MANAGER', 7839, '92/6/11', 2850, None, 30),\n",
       " (7839, 'KING', 'PRESIDENT', None, '90/6/9', 5000, 0, 10),\n",
       " (7900, 'JAMES', 'CLERK', 7698, '00/6/23', 950, None, 30),\n",
       " (7934, 'MILLER', 'CLERK', 7782, '00/1/21', 1300, None, 10)]"
      ]
     },
     "execution_count": 14,
     "metadata": {},
     "output_type": "execute_result"
    }
   ],
   "source": [
    "query.run('''SELECT * FROM EMP\n",
    "            WHERE HIREDATE NOT BETWEEN '93/5/14' AND '99/6/4';\n",
    "            ''')"
   ]
  },
  {
   "cell_type": "markdown",
   "metadata": {},
   "source": [
    "## IS operator\n",
    "Equivalent to `=` operator."
   ]
  },
  {
   "cell_type": "markdown",
   "metadata": {},
   "source": [
    "___SELECT * FROM EMP <br>\n",
    "WHERE JOB IS 'MANAGER';___<br>"
   ]
  },
  {
   "cell_type": "code",
   "execution_count": 15,
   "metadata": {
    "hide_input": true
   },
   "outputs": [
    {
     "data": {
      "text/plain": [
       "[('EMPNO', 'ENAME', 'JOB', 'MGR', 'HIREDATE', 'SAL', 'COMM', 'DEPTNO'),\n",
       " (7566, 'JONES', 'MANAGER', 7839, '95/10/31', 2975, None, 20),\n",
       " (7698, 'BLAKE', 'MANAGER', 7839, '92/6/11', 2850, None, 30),\n",
       " (7782, 'CLARK', 'MANAGER', 7839, '93/5/14', 2450, None, 10)]"
      ]
     },
     "execution_count": 15,
     "metadata": {},
     "output_type": "execute_result"
    }
   ],
   "source": [
    "query.run('''SELECT * FROM EMP\n",
    "            WHERE JOB='MANAGER';''')"
   ]
  },
  {
   "cell_type": "markdown",
   "metadata": {},
   "source": [
    "## NULL values"
   ]
  },
  {
   "cell_type": "markdown",
   "metadata": {},
   "source": [
    "___SELECT * FROM EMP <br>\n",
    "WHERE COMM IS NULL;___<br>"
   ]
  },
  {
   "cell_type": "code",
   "execution_count": 16,
   "metadata": {
    "hide_input": true
   },
   "outputs": [
    {
     "data": {
      "text/plain": [
       "[('EMPNO', 'ENAME', 'JOB', 'MGR', 'HIREDATE', 'SAL', 'COMM', 'DEPTNO'),\n",
       " (7566, 'JONES', 'MANAGER', 7839, '95/10/31', 2975, None, 20),\n",
       " (7698, 'BLAKE', 'MANAGER', 7839, '92/6/11', 2850, None, 30),\n",
       " (7782, 'CLARK', 'MANAGER', 7839, '93/5/14', 2450, None, 10),\n",
       " (7788, 'SCOTT', 'ANALYST', 7566, '96/3/5', 3000, None, 20),\n",
       " (7876, 'ADAMS', 'CLERK', 7788, '99/6/4', 1100, None, 20),\n",
       " (7900, 'JAMES', 'CLERK', 7698, '00/6/23', 950, None, 30),\n",
       " (7934, 'MILLER', 'CLERK', 7782, '00/1/21', 1300, None, 10),\n",
       " (7902, 'FORD', 'ANALYST', 7566, '97/12/5', 3000, None, 20)]"
      ]
     },
     "execution_count": 16,
     "metadata": {},
     "output_type": "execute_result"
    }
   ],
   "source": [
    "query.run('''SELECT * FROM EMP\n",
    "            WHERE COMM IS NULL;''')"
   ]
  },
  {
   "cell_type": "markdown",
   "metadata": {},
   "source": [
    "___SELECT * FROM EMP <br>\n",
    "WHERE COMM = NULL;___<br>"
   ]
  },
  {
   "cell_type": "code",
   "execution_count": 17,
   "metadata": {
    "hide_input": true
   },
   "outputs": [
    {
     "data": {
      "text/plain": [
       "[('EMPNO', 'ENAME', 'JOB', 'MGR', 'HIREDATE', 'SAL', 'COMM', 'DEPTNO')]"
      ]
     },
     "execution_count": 17,
     "metadata": {},
     "output_type": "execute_result"
    }
   ],
   "source": [
    "query.run('''SELECT * FROM EMP\n",
    "            WHERE COMM=NULL;''')"
   ]
  },
  {
   "cell_type": "markdown",
   "metadata": {},
   "source": [
    "__Note:__ `NOT` & `=` are not equivalent in case of a null value."
   ]
  },
  {
   "cell_type": "markdown",
   "metadata": {},
   "source": [
    "## LIKE Clause\n",
    "The LIKE operator is used in a WHERE clause to search for a specified pattern in a column."
   ]
  },
  {
   "cell_type": "markdown",
   "metadata": {},
   "source": [
    "### Wildcards"
   ]
  },
  {
   "cell_type": "markdown",
   "metadata": {},
   "source": [
    "### %\n",
    "Represents zero or more characters."
   ]
  },
  {
   "cell_type": "markdown",
   "metadata": {},
   "source": [
    "___SELECT * FROM EMP<br>\n",
    "WHERE JOB LIKE '%MAN';___<br>"
   ]
  },
  {
   "cell_type": "code",
   "execution_count": 18,
   "metadata": {
    "hide_input": true
   },
   "outputs": [
    {
     "data": {
      "text/plain": [
       "[('EMPNO', 'ENAME', 'JOB', 'MGR', 'HIREDATE', 'SAL', 'COMM', 'DEPTNO'),\n",
       " (7499, 'ALLEN', 'SALESMAN', 7698, '98/8/15', 1600, 300, 30),\n",
       " (7521, 'WARD', 'SALESMAN', 7698, '96/3/26', 1250, 500, 30),\n",
       " (7844, 'TURNER', 'SALESMAN', 7698, '95/6/4', 1500, 0, 30),\n",
       " (7654, 'MARTIN', 'SALESMAN', 7698, '98/12/5', 1250, 1400, 30)]"
      ]
     },
     "execution_count": 18,
     "metadata": {},
     "output_type": "execute_result"
    }
   ],
   "source": [
    "query.run('''SELECT * FROM EMP\n",
    "            WHERE JOB LIKE '%MAN';\n",
    "            ''')"
   ]
  },
  {
   "cell_type": "markdown",
   "metadata": {},
   "source": [
    "___SELECT * FROM EMP<br>\n",
    "WHERE JOB LIKE 'MAN%';___<br>"
   ]
  },
  {
   "cell_type": "code",
   "execution_count": 19,
   "metadata": {
    "hide_input": true
   },
   "outputs": [
    {
     "data": {
      "text/plain": [
       "[('EMPNO', 'ENAME', 'JOB', 'MGR', 'HIREDATE', 'SAL', 'COMM', 'DEPTNO'),\n",
       " (7566, 'JONES', 'MANAGER', 7839, '95/10/31', 2975, None, 20),\n",
       " (7698, 'BLAKE', 'MANAGER', 7839, '92/6/11', 2850, None, 30),\n",
       " (7782, 'CLARK', 'MANAGER', 7839, '93/5/14', 2450, None, 10)]"
      ]
     },
     "execution_count": 19,
     "metadata": {},
     "output_type": "execute_result"
    }
   ],
   "source": [
    "query.run('''SELECT * FROM EMP\n",
    "            WHERE JOB LIKE 'MAN%';\n",
    "            ''')"
   ]
  },
  {
   "cell_type": "markdown",
   "metadata": {},
   "source": [
    "___SELECT * FROM EMP<br>\n",
    "WHERE JOB LIKE '%MAN%';___<br>"
   ]
  },
  {
   "cell_type": "code",
   "execution_count": 20,
   "metadata": {
    "hide_input": true
   },
   "outputs": [
    {
     "data": {
      "text/plain": [
       "[('EMPNO', 'ENAME', 'JOB', 'MGR', 'HIREDATE', 'SAL', 'COMM', 'DEPTNO'),\n",
       " (7499, 'ALLEN', 'SALESMAN', 7698, '98/8/15', 1600, 300, 30),\n",
       " (7521, 'WARD', 'SALESMAN', 7698, '96/3/26', 1250, 500, 30),\n",
       " (7566, 'JONES', 'MANAGER', 7839, '95/10/31', 2975, None, 20),\n",
       " (7698, 'BLAKE', 'MANAGER', 7839, '92/6/11', 2850, None, 30),\n",
       " (7782, 'CLARK', 'MANAGER', 7839, '93/5/14', 2450, None, 10),\n",
       " (7844, 'TURNER', 'SALESMAN', 7698, '95/6/4', 1500, 0, 30),\n",
       " (7654, 'MARTIN', 'SALESMAN', 7698, '98/12/5', 1250, 1400, 30)]"
      ]
     },
     "execution_count": 20,
     "metadata": {},
     "output_type": "execute_result"
    }
   ],
   "source": [
    "query.run('''SELECT * FROM EMP\n",
    "            WHERE JOB LIKE '%MAN%';\n",
    "            ''')"
   ]
  },
  {
   "cell_type": "markdown",
   "metadata": {},
   "source": [
    "### _\n",
    "Represents a single character"
   ]
  },
  {
   "cell_type": "markdown",
   "metadata": {},
   "source": [
    "___SELECT * FROM EMP<br>\n",
    "WHERE ENAME LIKE '\\_\\_\\_\\_S';___<br>"
   ]
  },
  {
   "cell_type": "code",
   "execution_count": 21,
   "metadata": {
    "hide_input": true
   },
   "outputs": [
    {
     "data": {
      "text/plain": [
       "[('EMPNO', 'ENAME', 'JOB', 'MGR', 'HIREDATE', 'SAL', 'COMM', 'DEPTNO'),\n",
       " (7566, 'JONES', 'MANAGER', 7839, '95/10/31', 2975, None, 20),\n",
       " (7876, 'ADAMS', 'CLERK', 7788, '99/6/4', 1100, None, 20),\n",
       " (7900, 'JAMES', 'CLERK', 7698, '00/6/23', 950, None, 30)]"
      ]
     },
     "execution_count": 21,
     "metadata": {},
     "output_type": "execute_result"
    }
   ],
   "source": [
    "query.run('''SELECT * FROM EMP\n",
    "            WHERE ENAME LIKE '____S';\n",
    "            ''')"
   ]
  },
  {
   "cell_type": "markdown",
   "metadata": {
    "hide_input": true
   },
   "source": [
    "## ALIAS"
   ]
  },
  {
   "cell_type": "markdown",
   "metadata": {},
   "source": [
    "___SELECT ENAME AS Employee, SAL AS Salary, COMM AS Commision <br>\n",
    "FROM EMP;___<br>"
   ]
  },
  {
   "cell_type": "code",
   "execution_count": 22,
   "metadata": {
    "hide_input": true,
    "scrolled": true
   },
   "outputs": [
    {
     "data": {
      "text/plain": [
       "[('Employee', 'Salary', 'Commision'),\n",
       " ('SMITH', 800, 0),\n",
       " ('ALLEN', 1600, 300),\n",
       " ('WARD', 1250, 500),\n",
       " ('JONES', 2975, None),\n",
       " ('BLAKE', 2850, None),\n",
       " ('CLARK', 2450, None),\n",
       " ('SCOTT', 3000, None),\n",
       " ('KING', 5000, 0),\n",
       " ('TURNER', 1500, 0),\n",
       " ('ADAMS', 1100, None),\n",
       " ('JAMES', 950, None),\n",
       " ('MILLER', 1300, None),\n",
       " ('FORD', 3000, None),\n",
       " ('MARTIN', 1250, 1400)]"
      ]
     },
     "execution_count": 22,
     "metadata": {},
     "output_type": "execute_result"
    }
   ],
   "source": [
    "query.run('''SELECT ENAME AS Employee, SAL AS Salary, COMM AS Commision\n",
    "            FROM EMP;\n",
    "            ''')"
   ]
  },
  {
   "cell_type": "markdown",
   "metadata": {},
   "source": [
    "__Note:__ Cannot use whitespaces while aliasing columns. Instead use underscore in place of whitespace or put column alias names in double quotes."
   ]
  },
  {
   "cell_type": "markdown",
   "metadata": {
    "hide_input": false
   },
   "source": [
    "__Note:__ Not writing `AS` will still work. But it's a convention to do aliasing using `AS`, as it is more-readable & works with most databases."
   ]
  },
  {
   "cell_type": "markdown",
   "metadata": {},
   "source": [
    "___SELECT ENAME \"Employee name\", SAL Salary, COMM Commision <br>\n",
    "FROM EMP;___<br>"
   ]
  },
  {
   "cell_type": "code",
   "execution_count": 23,
   "metadata": {
    "hide_input": true,
    "scrolled": true
   },
   "outputs": [
    {
     "data": {
      "text/plain": [
       "[('Employee name', 'Salary', 'Commision'),\n",
       " ('SMITH', 800, 0),\n",
       " ('ALLEN', 1600, 300),\n",
       " ('WARD', 1250, 500),\n",
       " ('JONES', 2975, None),\n",
       " ('BLAKE', 2850, None),\n",
       " ('CLARK', 2450, None),\n",
       " ('SCOTT', 3000, None),\n",
       " ('KING', 5000, 0),\n",
       " ('TURNER', 1500, 0),\n",
       " ('ADAMS', 1100, None),\n",
       " ('JAMES', 950, None),\n",
       " ('MILLER', 1300, None),\n",
       " ('FORD', 3000, None),\n",
       " ('MARTIN', 1250, 1400)]"
      ]
     },
     "execution_count": 23,
     "metadata": {},
     "output_type": "execute_result"
    }
   ],
   "source": [
    "query.run('''SELECT ENAME \"Employee name\", SAL Salary, COMM Commision \n",
    "            FROM EMP;\n",
    "            ''')"
   ]
  },
  {
   "cell_type": "markdown",
   "metadata": {
    "hide_input": true
   },
   "source": [
    "## CONCATENATION"
   ]
  },
  {
   "cell_type": "markdown",
   "metadata": {},
   "source": [
    "### Using ||:\n",
    "`||` is used to concatenate two or more strings."
   ]
  },
  {
   "cell_type": "markdown",
   "metadata": {},
   "source": [
    "___SELECT 'My Name is ' || ENAME<br>\n",
    "FROM EMP;___<br>"
   ]
  },
  {
   "cell_type": "code",
   "execution_count": 24,
   "metadata": {
    "hide_input": true,
    "scrolled": true
   },
   "outputs": [
    {
     "data": {
      "text/plain": [
       "[(\"'My Name is ' || ENAME\",),\n",
       " ('My Name is SMITH',),\n",
       " ('My Name is ALLEN',),\n",
       " ('My Name is WARD',),\n",
       " ('My Name is JONES',),\n",
       " ('My Name is BLAKE',),\n",
       " ('My Name is CLARK',),\n",
       " ('My Name is SCOTT',),\n",
       " ('My Name is KING',),\n",
       " ('My Name is TURNER',),\n",
       " ('My Name is ADAMS',),\n",
       " ('My Name is JAMES',),\n",
       " ('My Name is MILLER',),\n",
       " ('My Name is FORD',),\n",
       " ('My Name is MARTIN',)]"
      ]
     },
     "execution_count": 24,
     "metadata": {},
     "output_type": "execute_result"
    }
   ],
   "source": [
    "query.run('''SELECT 'My Name is ' || ENAME\n",
    "            FROM EMP;\n",
    "            ''')"
   ]
  },
  {
   "cell_type": "markdown",
   "metadata": {
    "hide_input": true
   },
   "source": [
    "___SELECT ENAME || ' makes $' || SAL || ' per month.' AS \"Generated Report\"<br>\n",
    "FROM EMP;___<br>"
   ]
  },
  {
   "cell_type": "code",
   "execution_count": 25,
   "metadata": {
    "hide_input": true,
    "scrolled": true
   },
   "outputs": [
    {
     "data": {
      "text/plain": [
       "[('Generated Report',),\n",
       " ('SMITH is a CLERK and makes $800 per month.',),\n",
       " ('ALLEN is a SALESMAN and makes $1600 per month.',),\n",
       " ('WARD is a SALESMAN and makes $1250 per month.',),\n",
       " ('JONES is a MANAGER and makes $2975 per month.',),\n",
       " ('BLAKE is a MANAGER and makes $2850 per month.',),\n",
       " ('CLARK is a MANAGER and makes $2450 per month.',),\n",
       " ('SCOTT is a ANALYST and makes $3000 per month.',),\n",
       " ('KING is a PRESIDENT and makes $5000 per month.',),\n",
       " ('TURNER is a SALESMAN and makes $1500 per month.',),\n",
       " ('ADAMS is a CLERK and makes $1100 per month.',),\n",
       " ('JAMES is a CLERK and makes $950 per month.',),\n",
       " ('MILLER is a CLERK and makes $1300 per month.',),\n",
       " ('FORD is a ANALYST and makes $3000 per month.',),\n",
       " ('MARTIN is a SALESMAN and makes $1250 per month.',)]"
      ]
     },
     "execution_count": 25,
     "metadata": {},
     "output_type": "execute_result"
    }
   ],
   "source": [
    "query.run('''SELECT ENAME || ' is a ' || JOB || ' and makes $' || SAL || ' per month.' AS \"Generated Report\"\n",
    "            FROM EMP;\n",
    "            ''')"
   ]
  },
  {
   "cell_type": "markdown",
   "metadata": {},
   "source": [
    "### Using CONCAT():\n",
    "CONCAT() takes 2 values as parameters and returns a concatenated result."
   ]
  },
  {
   "cell_type": "markdown",
   "metadata": {},
   "source": [
    "## SORTING"
   ]
  },
  {
   "cell_type": "markdown",
   "metadata": {},
   "source": [
    "___SELECT ENAME, JOB<br>\n",
    "FROM EMP<br>\n",
    "ORDER BY ENAME;___<br>"
   ]
  },
  {
   "cell_type": "code",
   "execution_count": 26,
   "metadata": {
    "hide_input": true
   },
   "outputs": [
    {
     "data": {
      "text/plain": [
       "[('ENAME', 'JOB'),\n",
       " ('ADAMS', 'CLERK'),\n",
       " ('ALLEN', 'SALESMAN'),\n",
       " ('BLAKE', 'MANAGER'),\n",
       " ('CLARK', 'MANAGER'),\n",
       " ('FORD', 'ANALYST'),\n",
       " ('JAMES', 'CLERK'),\n",
       " ('JONES', 'MANAGER'),\n",
       " ('KING', 'PRESIDENT'),\n",
       " ('MARTIN', 'SALESMAN'),\n",
       " ('MILLER', 'CLERK'),\n",
       " ('SCOTT', 'ANALYST'),\n",
       " ('SMITH', 'CLERK'),\n",
       " ('TURNER', 'SALESMAN'),\n",
       " ('WARD', 'SALESMAN')]"
      ]
     },
     "execution_count": 26,
     "metadata": {},
     "output_type": "execute_result"
    }
   ],
   "source": [
    "query.run('''SELECT ENAME, JOB\n",
    "            FROM EMP\n",
    "            ORDER BY ENAME;\n",
    "        ''')"
   ]
  },
  {
   "cell_type": "markdown",
   "metadata": {},
   "source": [
    "__Note:__ Sorting is implicitly Ascending in SQL."
   ]
  },
  {
   "cell_type": "markdown",
   "metadata": {},
   "source": [
    "### Explicit Ascending order:"
   ]
  },
  {
   "cell_type": "markdown",
   "metadata": {},
   "source": [
    "___SELECT ENAME, JOB<br>\n",
    "FROM EMP<br>\n",
    "ORDER BY SAL ASC;___<br>"
   ]
  },
  {
   "cell_type": "code",
   "execution_count": 27,
   "metadata": {
    "hide_input": true
   },
   "outputs": [
    {
     "data": {
      "text/plain": [
       "[('ENAME', 'SAL'),\n",
       " ('SMITH', 800),\n",
       " ('JAMES', 950),\n",
       " ('ADAMS', 1100),\n",
       " ('WARD', 1250),\n",
       " ('MARTIN', 1250),\n",
       " ('MILLER', 1300),\n",
       " ('TURNER', 1500),\n",
       " ('ALLEN', 1600),\n",
       " ('CLARK', 2450),\n",
       " ('BLAKE', 2850),\n",
       " ('JONES', 2975),\n",
       " ('SCOTT', 3000),\n",
       " ('FORD', 3000),\n",
       " ('KING', 5000)]"
      ]
     },
     "execution_count": 27,
     "metadata": {},
     "output_type": "execute_result"
    }
   ],
   "source": [
    "query.run('''SELECT ENAME, SAL\n",
    "            FROM EMP\n",
    "            ORDER BY SAL ASC;\n",
    "        ''')"
   ]
  },
  {
   "cell_type": "markdown",
   "metadata": {},
   "source": [
    "### Descending order:"
   ]
  },
  {
   "cell_type": "markdown",
   "metadata": {},
   "source": [
    "___SELECT ENAME, JOB<br>\n",
    "FROM EMP<br>\n",
    "ORDER BY SAL DESC;___<br>"
   ]
  },
  {
   "cell_type": "code",
   "execution_count": 28,
   "metadata": {
    "hide_input": true
   },
   "outputs": [
    {
     "data": {
      "text/plain": [
       "[('ENAME', 'SAL'),\n",
       " ('KING', 5000),\n",
       " ('SCOTT', 3000),\n",
       " ('FORD', 3000),\n",
       " ('JONES', 2975),\n",
       " ('BLAKE', 2850),\n",
       " ('CLARK', 2450),\n",
       " ('ALLEN', 1600),\n",
       " ('TURNER', 1500),\n",
       " ('MILLER', 1300),\n",
       " ('WARD', 1250),\n",
       " ('MARTIN', 1250),\n",
       " ('ADAMS', 1100),\n",
       " ('JAMES', 950),\n",
       " ('SMITH', 800)]"
      ]
     },
     "execution_count": 28,
     "metadata": {},
     "output_type": "execute_result"
    }
   ],
   "source": [
    "query.run('''SELECT ENAME, SAL\n",
    "            FROM EMP\n",
    "            ORDER BY SAL DESC;\n",
    "        ''')"
   ]
  },
  {
   "cell_type": "markdown",
   "metadata": {},
   "source": [
    "### Multilevel Sorting"
   ]
  },
  {
   "cell_type": "markdown",
   "metadata": {},
   "source": [
    "___SELECT DEPTNO, SAL, ENAME<br>\n",
    "FROM EMP<br>\n",
    "ORDER BY DEPTNO, SAL DESC, ENAME;___<br>"
   ]
  },
  {
   "cell_type": "code",
   "execution_count": 29,
   "metadata": {
    "hide_input": true
   },
   "outputs": [
    {
     "data": {
      "text/plain": [
       "[('DEPTNO', 'SAL', 'ENAME'),\n",
       " (10, 5000, 'KING'),\n",
       " (10, 2450, 'CLARK'),\n",
       " (10, 1300, 'MILLER'),\n",
       " (20, 3000, 'FORD'),\n",
       " (20, 3000, 'SCOTT'),\n",
       " (20, 2975, 'JONES'),\n",
       " (20, 1100, 'ADAMS'),\n",
       " (20, 800, 'SMITH'),\n",
       " (30, 2850, 'BLAKE'),\n",
       " (30, 1600, 'ALLEN'),\n",
       " (30, 1500, 'TURNER'),\n",
       " (30, 1250, 'MARTIN'),\n",
       " (30, 1250, 'WARD'),\n",
       " (30, 950, 'JAMES')]"
      ]
     },
     "execution_count": 29,
     "metadata": {},
     "output_type": "execute_result"
    }
   ],
   "source": [
    "query.run('''SELECT DEPTNO, SAL, ENAME\n",
    "            FROM EMP\n",
    "            ORDER BY DEPTNO, SAL DESC, ENAME;\n",
    "        ''')"
   ]
  },
  {
   "cell_type": "markdown",
   "metadata": {},
   "source": [
    "# SQL Functions\n",
    "Can be used with SELECT as well as WHERE clause."
   ]
  },
  {
   "cell_type": "markdown",
   "metadata": {},
   "source": [
    "## LOWER()\n",
    "To convert data into lowercase."
   ]
  },
  {
   "cell_type": "markdown",
   "metadata": {},
   "source": [
    "___SELECT LOWER(ENAME) AS Name, HIREDATE<br>\n",
    "FROM EMP;___<br>"
   ]
  },
  {
   "cell_type": "code",
   "execution_count": 30,
   "metadata": {
    "hide_input": true
   },
   "outputs": [
    {
     "data": {
      "text/plain": [
       "[('Name', 'HIREDATE'),\n",
       " ('smith', '93/6/13'),\n",
       " ('allen', '98/8/15'),\n",
       " ('ward', '96/3/26'),\n",
       " ('jones', '95/10/31'),\n",
       " ('blake', '92/6/11'),\n",
       " ('clark', '93/5/14'),\n",
       " ('scott', '96/3/5'),\n",
       " ('king', '90/6/9'),\n",
       " ('turner', '95/6/4'),\n",
       " ('adams', '99/6/4'),\n",
       " ('james', '00/6/23'),\n",
       " ('miller', '00/1/21'),\n",
       " ('ford', '97/12/5'),\n",
       " ('martin', '98/12/5')]"
      ]
     },
     "execution_count": 30,
     "metadata": {},
     "output_type": "execute_result"
    }
   ],
   "source": [
    "query.run('''SELECT LOWER(ENAME) AS Name, HIREDATE\n",
    "            FROM EMP;\n",
    "        ''')"
   ]
  },
  {
   "cell_type": "markdown",
   "metadata": {},
   "source": [
    "## UPPER()\n",
    "To convert data into uppercase."
   ]
  },
  {
   "cell_type": "markdown",
   "metadata": {},
   "source": [
    "## DISTINCT()\n",
    "Returns unique values in a column."
   ]
  },
  {
   "cell_type": "markdown",
   "metadata": {},
   "source": [
    "___SELECT DISTINCT(JOB)<br>\n",
    "FROM EMP;___<br>"
   ]
  },
  {
   "cell_type": "code",
   "execution_count": 31,
   "metadata": {
    "hide_input": true
   },
   "outputs": [
    {
     "data": {
      "text/plain": [
       "[('JOB',),\n",
       " ('CLERK',),\n",
       " ('SALESMAN',),\n",
       " ('MANAGER',),\n",
       " ('ANALYST',),\n",
       " ('PRESIDENT',)]"
      ]
     },
     "execution_count": 31,
     "metadata": {},
     "output_type": "execute_result"
    }
   ],
   "source": [
    "query.run('''SELECT DISTINCT(JOB)\n",
    "            FROM EMP;\n",
    "        ''')"
   ]
  },
  {
   "cell_type": "markdown",
   "metadata": {},
   "source": [
    "## LENGTH()\n",
    "Returns length of a string."
   ]
  },
  {
   "cell_type": "markdown",
   "metadata": {},
   "source": [
    "___SELECT ENAME, LENGTH(ENAME)<br>\n",
    "FROM EMP;___<br>"
   ]
  },
  {
   "cell_type": "code",
   "execution_count": 32,
   "metadata": {
    "hide_input": true
   },
   "outputs": [
    {
     "data": {
      "text/plain": [
       "[('ENAME', 'LENGTH(ENAME)'),\n",
       " ('SMITH', 5),\n",
       " ('ALLEN', 5),\n",
       " ('WARD', 4),\n",
       " ('JONES', 5),\n",
       " ('BLAKE', 5),\n",
       " ('CLARK', 5),\n",
       " ('SCOTT', 5),\n",
       " ('KING', 4),\n",
       " ('TURNER', 6),\n",
       " ('ADAMS', 5),\n",
       " ('JAMES', 5),\n",
       " ('MILLER', 6),\n",
       " ('FORD', 4),\n",
       " ('MARTIN', 6)]"
      ]
     },
     "execution_count": 32,
     "metadata": {},
     "output_type": "execute_result"
    }
   ],
   "source": [
    "query.run('''SELECT ENAME, LENGTH(ENAME)\n",
    "            FROM EMP;\n",
    "        ''')"
   ]
  },
  {
   "cell_type": "markdown",
   "metadata": {},
   "source": [
    "## COUNT()\n",
    "Returns count of values in a column."
   ]
  },
  {
   "cell_type": "markdown",
   "metadata": {},
   "source": [
    "___SELECT COUNT(ENAME)<br>\n",
    "FROM EMP;___<br>"
   ]
  },
  {
   "cell_type": "code",
   "execution_count": 33,
   "metadata": {
    "hide_input": true
   },
   "outputs": [
    {
     "data": {
      "text/plain": [
       "[('COUNT(ENAME)',), (14,)]"
      ]
     },
     "execution_count": 33,
     "metadata": {},
     "output_type": "execute_result"
    }
   ],
   "source": [
    "query.run('''SELECT COUNT(ENAME)\n",
    "            FROM EMP;\n",
    "        ''')"
   ]
  },
  {
   "cell_type": "code",
   "execution_count": null,
   "metadata": {},
   "outputs": [],
   "source": []
  },
  {
   "cell_type": "code",
   "execution_count": null,
   "metadata": {},
   "outputs": [],
   "source": []
  },
  {
   "cell_type": "code",
   "execution_count": 74,
   "metadata": {},
   "outputs": [],
   "source": [
    "conn=sql.connect(\"DEPT_EMP.db\")"
   ]
  },
  {
   "cell_type": "code",
   "execution_count": 90,
   "metadata": {},
   "outputs": [],
   "source": [
    "cur=conn.execute(\"SELECT * FROM EMP;\")"
   ]
  },
  {
   "cell_type": "code",
   "execution_count": 89,
   "metadata": {},
   "outputs": [
    {
     "data": {
      "text/plain": [
       "[]"
      ]
     },
     "execution_count": 89,
     "metadata": {},
     "output_type": "execute_result"
    }
   ],
   "source": [
    "cur.fetchall()"
   ]
  },
  {
   "cell_type": "code",
   "execution_count": 93,
   "metadata": {},
   "outputs": [],
   "source": [
    "a=cur.fetchall()"
   ]
  },
  {
   "cell_type": "code",
   "execution_count": null,
   "metadata": {},
   "outputs": [],
   "source": []
  },
  {
   "cell_type": "code",
   "execution_count": null,
   "metadata": {},
   "outputs": [],
   "source": []
  },
  {
   "cell_type": "code",
   "execution_count": 46,
   "metadata": {},
   "outputs": [],
   "source": []
  },
  {
   "cell_type": "code",
   "execution_count": 53,
   "metadata": {},
   "outputs": [],
   "source": []
  },
  {
   "cell_type": "code",
   "execution_count": null,
   "metadata": {},
   "outputs": [],
   "source": []
  },
  {
   "cell_type": "code",
   "execution_count": null,
   "metadata": {},
   "outputs": [],
   "source": []
  },
  {
   "cell_type": "code",
   "execution_count": null,
   "metadata": {},
   "outputs": [],
   "source": []
  },
  {
   "cell_type": "code",
   "execution_count": 9,
   "metadata": {
    "hide_input": true
   },
   "outputs": [
    {
     "name": "stdout",
     "output_type": "stream",
     "text": [
      "\n",
      "DROP TABLE IF EXISTS dept\n",
      "\n",
      "DROP TABLE IF EXISTS emp\n",
      "\n",
      "\n",
      "CREATE TABLE DEPT(\n",
      "DEPTNO int(2) not null primary key,\n",
      "DNAME varchar(50) not null,\n",
      "LOCATION varchar(50) not null)\n",
      "\n",
      "\n",
      "CREATE TABLE EMP(\n",
      "EMPNO int(4) not null primary key,\n",
      "ENAME varchar(50) not null,\n",
      "JOB varchar(50) not null,\n",
      "MGR int(4),\n",
      "HIREDATE date,\n",
      "SAL decimal(10,2),\n",
      "COMM decimal(10,2),\n",
      "DEPTNO int(2) not null)\n",
      "\n",
      "\n",
      "insert into dept values (10,'Accounting','New York')\n",
      "\n",
      "\n",
      "insert into dept values (20,'Research','Dallas')\n",
      "\n",
      "\n",
      "insert into dept values (30,'Sales','Chicago')\n",
      "\n",
      "\n",
      "insert into dept values (40,'Operations','Boston')\n",
      "\n",
      "\n",
      "\n",
      "\n",
      "insert into emp values (7369,'SMITH','CLERK',7902,'93/6/13',800,0.00,20)\n",
      "\n",
      "\n",
      "insert into emp values (7499,'ALLEN','SALESMAN',7698,'98/8/15',1600,300,30)\n",
      "\n",
      "\n",
      "insert into emp values (7521,'WARD','SALESMAN',7698,'96/3/26',1250,500,30)\n",
      "\n",
      "\n",
      "insert into emp values (7566,'JONES','MANAGER',7839,'95/10/31',2975,null,20)\n",
      "\n",
      "\n",
      "insert into emp values (7698,'BLAKE','MANAGER',7839,'92/6/11',2850,null,30)\n",
      "\n",
      "\n",
      "insert into emp values (7782,'CLARK','MANAGER',7839,'93/5/14',2450,null,10)\n",
      "\n",
      "\n",
      "insert into emp values (7788,'SCOTT','ANALYST',7566,'96/3/5',3000,null,20)\n",
      "\n",
      "\n",
      "insert into emp values (7839,'KING','PRESIDENT',null,'90/6/9',5000,0,10)\n",
      "\n",
      "\n",
      "insert into emp values (7844,'TURNER','SALESMAN',7698,'95/6/4',1500,0,30)\n",
      "\n",
      "\n",
      "insert into emp values (7876,'ADAMS','CLERK',7788,'99/6/4',1100,null,20)\n",
      "\n",
      "\n",
      "insert into emp values (7900,'JAMES','CLERK',7698,'00/6/23',950,null,30)\n",
      "\n",
      "\n",
      "insert into emp values (7934,'MILLER','CLERK',7782,'00/1/21',1300,null,10)\n",
      "\n",
      "\n",
      "insert into emp values (7902,'FORD','ANALYST',7566,'97/12/5',3000,null,20)\n",
      "\n",
      "\n",
      "insert into emp values (7654,'MARTIN','SALESMAN',7698,'98/12/5',1250,1400,30)\n",
      "\n",
      "\n"
     ]
    }
   ],
   "source": [
    "conn=sql.connect('DEPT_EMP.db')\n",
    "STRING='''\n",
    "DROP TABLE IF EXISTS dept;\n",
    "DROP TABLE IF EXISTS emp;\n",
    "\n",
    "CREATE TABLE DEPT(\n",
    "DEPTNO int(2) not null primary key,\n",
    "DNAME varchar(50) not null,\n",
    "LOCATION varchar(50) not null);\n",
    "\n",
    "CREATE TABLE EMP(\n",
    "EMPNO int(4) not null primary key,\n",
    "ENAME varchar(50) not null,\n",
    "JOB varchar(50) not null,\n",
    "MGR int(4),\n",
    "HIREDATE date,\n",
    "SAL decimal(10,2),\n",
    "COMM decimal(10,2),\n",
    "DEPTNO int(2) not null);\n",
    "\n",
    "insert into dept values (10,'Accounting','New York');\n",
    "\n",
    "insert into dept values (20,'Research','Dallas');\n",
    "\n",
    "insert into dept values (30,'Sales','Chicago');\n",
    "\n",
    "insert into dept values (40,'Operations','Boston');\n",
    "\n",
    "\n",
    "\n",
    "insert into emp values (7369,'SMITH','CLERK',7902,'93/6/13',800,0.00,20);\n",
    "\n",
    "insert into emp values (7499,'ALLEN','SALESMAN',7698,'98/8/15',1600,300,30);\n",
    "\n",
    "insert into emp values (7521,'WARD','SALESMAN',7698,'96/3/26',1250,500,30);\n",
    "\n",
    "insert into emp values (7566,'JONES','MANAGER',7839,'95/10/31',2975,null,20);\n",
    "\n",
    "insert into emp values (7698,'BLAKE','MANAGER',7839,'92/6/11',2850,null,30);\n",
    "\n",
    "insert into emp values (7782,'CLARK','MANAGER',7839,'93/5/14',2450,null,10);\n",
    "\n",
    "insert into emp values (7788,'SCOTT','ANALYST',7566,'96/3/5',3000,null,20);\n",
    "\n",
    "insert into emp values (7839,'KING','PRESIDENT',null,'90/6/9',5000,0,10);\n",
    "\n",
    "insert into emp values (7844,'TURNER','SALESMAN',7698,'95/6/4',1500,0,30);\n",
    "\n",
    "insert into emp values (7876,'ADAMS','CLERK',7788,'99/6/4',1100,null,20);\n",
    "\n",
    "insert into emp values (7900,'JAMES','CLERK',7698,'00/6/23',950,null,30);\n",
    "\n",
    "insert into emp values (7934,'MILLER','CLERK',7782,'00/1/21',1300,null,10);\n",
    "\n",
    "insert into emp values (7902,'FORD','ANALYST',7566,'97/12/5',3000,null,20);\n",
    "\n",
    "insert into emp values (7654,'MARTIN','SALESMAN',7698,'98/12/5',1250,1400,30);\n",
    "'''\n",
    "a=STRING.split(';')\n",
    "for i in range(len(a)):\n",
    "    print(a[i])\n",
    "    cur=conn.execute(a[i].strip()+';')\n",
    "conn.commit()\n",
    "conn.close()"
   ]
  },
  {
   "cell_type": "code",
   "execution_count": 36,
   "metadata": {},
   "outputs": [],
   "source": []
  },
  {
   "cell_type": "code",
   "execution_count": 5,
   "metadata": {},
   "outputs": [],
   "source": []
  },
  {
   "cell_type": "markdown",
   "metadata": {},
   "source": [
    "# Insertion"
   ]
  },
  {
   "cell_type": "code",
   "execution_count": 4,
   "metadata": {},
   "outputs": [],
   "source": [
    "cur=conn.execute(\"insert into Employee values(1,'Ankur Goswami',19,200000);\")"
   ]
  },
  {
   "cell_type": "code",
   "execution_count": 5,
   "metadata": {},
   "outputs": [],
   "source": [
    "cur=conn.execute(\"insert into Employee values(2,'Murtaza Nazir',21,10000)\")\n",
    "cur=conn.execute(\"insert into Employee(empid,empname,age) values(3,'RJ Rahul',21)\")"
   ]
  },
  {
   "cell_type": "code",
   "execution_count": 6,
   "metadata": {},
   "outputs": [],
   "source": [
    "cur=conn.execute(\"insert into Employee values(4,'Naveed Unjum',21,0)\")"
   ]
  },
  {
   "cell_type": "markdown",
   "metadata": {},
   "source": [
    "# Displaying"
   ]
  },
  {
   "cell_type": "code",
   "execution_count": 7,
   "metadata": {},
   "outputs": [
    {
     "data": {
      "text/plain": [
       "[(1, 'Ankur Goswami', 19, 200000),\n",
       " (2, 'Murtaza Nazir', 21, 10000),\n",
       " (3, 'RJ Rahul', 21, 10000),\n",
       " (4, 'Naveed Unjum', 21, 0)]"
      ]
     },
     "execution_count": 7,
     "metadata": {},
     "output_type": "execute_result"
    }
   ],
   "source": [
    "cur=conn.execute('select * from Employee')\n",
    "cur.fetchall()"
   ]
  },
  {
   "cell_type": "markdown",
   "metadata": {},
   "source": [
    "# Deletion"
   ]
  },
  {
   "cell_type": "code",
   "execution_count": 8,
   "metadata": {},
   "outputs": [],
   "source": [
    "cur=conn.execute(\"delete from Employee where empid=4\")"
   ]
  },
  {
   "cell_type": "code",
   "execution_count": 9,
   "metadata": {},
   "outputs": [
    {
     "data": {
      "text/plain": [
       "[(1, 'Ankur Goswami', 19, 200000),\n",
       " (2, 'Murtaza Nazir', 21, 10000),\n",
       " (3, 'RJ Rahul', 21, 10000)]"
      ]
     },
     "execution_count": 9,
     "metadata": {},
     "output_type": "execute_result"
    }
   ],
   "source": [
    "cur=conn.execute('select * from Employee')\n",
    "cur.fetchall()"
   ]
  },
  {
   "cell_type": "code",
   "execution_count": null,
   "metadata": {},
   "outputs": [],
   "source": []
  },
  {
   "cell_type": "code",
   "execution_count": 10,
   "metadata": {},
   "outputs": [],
   "source": [
    "cur=conn.execute(\"insert into Employee values(4,'Naveed Unjum',21,0)\")"
   ]
  },
  {
   "cell_type": "code",
   "execution_count": null,
   "metadata": {},
   "outputs": [],
   "source": []
  },
  {
   "cell_type": "markdown",
   "metadata": {},
   "source": [
    "# Update"
   ]
  },
  {
   "cell_type": "code",
   "execution_count": 11,
   "metadata": {},
   "outputs": [],
   "source": [
    "cur=conn.execute(\"update Employee set empname='Naveed Unjum(Unemployed)' where salary=0\")"
   ]
  },
  {
   "cell_type": "code",
   "execution_count": 12,
   "metadata": {},
   "outputs": [
    {
     "data": {
      "text/plain": [
       "[(1, 'Ankur Goswami', 19, 200000),\n",
       " (2, 'Murtaza Nazir', 21, 10000),\n",
       " (3, 'RJ Rahul', 21, 10000),\n",
       " (4, 'Naveed Unjum(Unemployed)', 21, 0)]"
      ]
     },
     "execution_count": 12,
     "metadata": {},
     "output_type": "execute_result"
    }
   ],
   "source": [
    "cur=conn.execute('select * from Employee')\n",
    "cur.fetchall()"
   ]
  },
  {
   "cell_type": "markdown",
   "metadata": {},
   "source": [
    "# Adding Columns"
   ]
  },
  {
   "cell_type": "code",
   "execution_count": 13,
   "metadata": {},
   "outputs": [],
   "source": [
    "cur=conn.execute(\"alter table Employee add column dept varchar(3)\")"
   ]
  },
  {
   "cell_type": "code",
   "execution_count": 14,
   "metadata": {},
   "outputs": [
    {
     "data": {
      "text/plain": [
       "[(1, 'Ankur Goswami', 19, 200000, None),\n",
       " (2, 'Murtaza Nazir', 21, 10000, None),\n",
       " (3, 'RJ Rahul', 21, 10000, None),\n",
       " (4, 'Naveed Unjum(Unemployed)', 21, 0, None)]"
      ]
     },
     "execution_count": 14,
     "metadata": {},
     "output_type": "execute_result"
    }
   ],
   "source": [
    "cur=conn.execute('select * from Employee')\n",
    "cur.fetchall()"
   ]
  },
  {
   "cell_type": "code",
   "execution_count": 15,
   "metadata": {},
   "outputs": [
    {
     "ename": "OperationalError",
     "evalue": "near \"drop\": syntax error",
     "output_type": "error",
     "traceback": [
      "\u001b[1;31m---------------------------------------------------------------------------\u001b[0m",
      "\u001b[1;31mOperationalError\u001b[0m                          Traceback (most recent call last)",
      "\u001b[1;32m<ipython-input-15-a4e0b6d3eb60>\u001b[0m in \u001b[0;36m<module>\u001b[1;34m\u001b[0m\n\u001b[1;32m----> 1\u001b[1;33m \u001b[0mcur\u001b[0m\u001b[1;33m=\u001b[0m\u001b[0mconn\u001b[0m\u001b[1;33m.\u001b[0m\u001b[0mexecute\u001b[0m\u001b[1;33m(\u001b[0m\u001b[1;34m\"alter table Employee drop dept\"\u001b[0m\u001b[1;33m)\u001b[0m\u001b[1;33m\u001b[0m\u001b[1;33m\u001b[0m\u001b[0m\n\u001b[0m",
      "\u001b[1;31mOperationalError\u001b[0m: near \"drop\": syntax error"
     ]
    }
   ],
   "source": [
    "cur=conn.execute(\"alter table Employee drop dept\")"
   ]
  },
  {
   "cell_type": "code",
   "execution_count": null,
   "metadata": {},
   "outputs": [],
   "source": []
  },
  {
   "cell_type": "code",
   "execution_count": 16,
   "metadata": {},
   "outputs": [
    {
     "data": {
      "text/plain": [
       "[(1, 'Ankur Goswami', 19, 200000, None),\n",
       " (2, 'Murtaza Nazir', 21, 10000, None),\n",
       " (3, 'RJ Rahul', 21, 10000, None),\n",
       " (4, 'Naveed Unjum(Unemployed)', 21, 0, None)]"
      ]
     },
     "execution_count": 16,
     "metadata": {},
     "output_type": "execute_result"
    }
   ],
   "source": [
    "cur=conn.execute('select * from Employee')\n",
    "cur.fetchall()"
   ]
  },
  {
   "cell_type": "code",
   "execution_count": null,
   "metadata": {},
   "outputs": [],
   "source": []
  },
  {
   "cell_type": "markdown",
   "metadata": {},
   "source": [
    "# Comparison"
   ]
  },
  {
   "cell_type": "markdown",
   "metadata": {},
   "source": [
    "**`<>`** and **`!=`** are **`not equal`** to operators."
   ]
  },
  {
   "cell_type": "code",
   "execution_count": 18,
   "metadata": {},
   "outputs": [
    {
     "data": {
      "text/plain": [
       "[('Ankur Goswami',)]"
      ]
     },
     "execution_count": 18,
     "metadata": {},
     "output_type": "execute_result"
    }
   ],
   "source": [
    "cur=conn.execute('select empname from Employee where age<>21')\n",
    "cur.fetchall()"
   ]
  },
  {
   "cell_type": "code",
   "execution_count": null,
   "metadata": {},
   "outputs": [],
   "source": []
  },
  {
   "cell_type": "code",
   "execution_count": 19,
   "metadata": {},
   "outputs": [],
   "source": [
    "cur=conn.execute(\"insert into Employee values(5,'aNKUR gOSWAMI',19,50000,null)\")"
   ]
  },
  {
   "cell_type": "markdown",
   "metadata": {},
   "source": [
    "# Regex"
   ]
  },
  {
   "cell_type": "code",
   "execution_count": 20,
   "metadata": {},
   "outputs": [
    {
     "data": {
      "text/plain": [
       "[(1, 'Ankur Goswami', 19, 200000, None), (5, 'aNKUR gOSWAMI', 19, 50000, None)]"
      ]
     },
     "execution_count": 20,
     "metadata": {},
     "output_type": "execute_result"
    }
   ],
   "source": [
    "cur=conn.execute('select * from Employee where empname like \"%KUR%\"')\n",
    "cur.fetchall()"
   ]
  },
  {
   "cell_type": "code",
   "execution_count": 27,
   "metadata": {},
   "outputs": [
    {
     "data": {
      "text/plain": [
       "[(4, 'Naveed Unjum(Unemployed)', 21, 0, None)]"
      ]
     },
     "execution_count": 27,
     "metadata": {},
     "output_type": "execute_result"
    }
   ],
   "source": [
    "cur=conn.execute('select * from Employee where empname like \"n%)\"')\n",
    "cur.fetchall()"
   ]
  },
  {
   "cell_type": "code",
   "execution_count": 28,
   "metadata": {},
   "outputs": [
    {
     "data": {
      "text/plain": [
       "[(1, 'Ankur Goswami', 19, 200000, None),\n",
       " (2, 'Murtaza Nazir', 21, 10000, None),\n",
       " (3, 'RJ Rahul', 21, 10000, None),\n",
       " (5, 'aNKUR gOSWAMI', 19, 50000, None)]"
      ]
     },
     "execution_count": 28,
     "metadata": {},
     "output_type": "execute_result"
    }
   ],
   "source": [
    "cur=conn.execute('select * from Employee where empname like \"%r%\"')\n",
    "cur.fetchall()"
   ]
  },
  {
   "cell_type": "code",
   "execution_count": 30,
   "metadata": {},
   "outputs": [
    {
     "data": {
      "text/plain": [
       "[(3, 'RJ Rahul', 21, 10000, None)]"
      ]
     },
     "execution_count": 30,
     "metadata": {},
     "output_type": "execute_result"
    }
   ],
   "source": [
    "cur=conn.execute('select * from Employee where empname like \"%u_\"')\n",
    "cur.fetchall()"
   ]
  },
  {
   "cell_type": "code",
   "execution_count": 46,
   "metadata": {},
   "outputs": [
    {
     "data": {
      "text/plain": [
       "[(1, 'Ankur Goswami', 19, 200000, None),\n",
       " (2, 'Murtaza Nazir', 21, 10000, None),\n",
       " (3, 'RJ Rahul', 21, 10000, None),\n",
       " (5, 'aNKUR gOSWAMI', 19, 50000, None)]"
      ]
     },
     "execution_count": 46,
     "metadata": {},
     "output_type": "execute_result"
    }
   ],
   "source": [
    "cur=conn.execute('select * from Employee where empname not like \"______________%\"')\n",
    "cur.fetchall()"
   ]
  },
  {
   "cell_type": "markdown",
   "metadata": {},
   "source": [
    "begin with a and with a\n",
    "name contains atleast 1 r\n",
    "name with last but one char is y\n",
    "max of 5 chars"
   ]
  },
  {
   "cell_type": "code",
   "execution_count": null,
   "metadata": {},
   "outputs": [],
   "source": []
  },
  {
   "cell_type": "code",
   "execution_count": null,
   "metadata": {},
   "outputs": [],
   "source": []
  },
  {
   "cell_type": "code",
   "execution_count": null,
   "metadata": {},
   "outputs": [],
   "source": []
  },
  {
   "cell_type": "code",
   "execution_count": null,
   "metadata": {},
   "outputs": [],
   "source": []
  },
  {
   "cell_type": "code",
   "execution_count": null,
   "metadata": {},
   "outputs": [],
   "source": []
  },
  {
   "cell_type": "markdown",
   "metadata": {},
   "source": [
    "# SQL"
   ]
  },
  {
   "cell_type": "markdown",
   "metadata": {},
   "source": [
    "# Displaying Table"
   ]
  },
  {
   "cell_type": "code",
   "execution_count": null,
   "metadata": {},
   "outputs": [],
   "source": []
  },
  {
   "cell_type": "markdown",
   "metadata": {},
   "source": [
    "SELECT * FROM EMP;"
   ]
  },
  {
   "cell_type": "markdown",
   "metadata": {},
   "source": []
  },
  {
   "cell_type": "markdown",
   "metadata": {},
   "source": []
  },
  {
   "cell_type": "markdown",
   "metadata": {},
   "source": []
  },
  {
   "cell_type": "markdown",
   "metadata": {},
   "source": []
  },
  {
   "cell_type": "markdown",
   "metadata": {},
   "source": []
  },
  {
   "cell_type": "markdown",
   "metadata": {},
   "source": []
  },
  {
   "cell_type": "markdown",
   "metadata": {},
   "source": []
  }
 ],
 "metadata": {
  "kernelspec": {
   "display_name": "Python 3",
   "language": "python",
   "name": "python3"
  },
  "language_info": {
   "codemirror_mode": {
    "name": "ipython",
    "version": 3
   },
   "file_extension": ".py",
   "mimetype": "text/x-python",
   "name": "python",
   "nbconvert_exporter": "python",
   "pygments_lexer": "ipython3",
   "version": "3.7.3"
  }
 },
 "nbformat": 4,
 "nbformat_minor": 4
}
