{
 "cells": [
  {
   "cell_type": "markdown",
   "metadata": {},
   "source": [
    "<br><br>\n",
    "<b><font size=100>REGULAR EXPRESSIONS</font></b>\n",
    "<br>\n",
    "<br>"
   ]
  },
  {
   "cell_type": "markdown",
   "metadata": {},
   "source": [
    "## Regular Expression Cheatsheet:"
   ]
  },
  {
   "cell_type": "markdown",
   "metadata": {},
   "source": [
    "**``.``** Matches any character except a newline. If the DOTALL flag has been specified, this matches any character including a newline.<br><br>\n",
    "**``\\d``** matches any digit.<br><br>\n",
    "**``\\D``** matches any character except a digit.<br><br>\n",
    "**``\\w``** searches for any character in range A-Z, a-z, 0-9 and also searches for _.<br><br>\n",
    "**``\\W``** searches for any character except A-Z, a-z, 0-9, _.<br><br>\n",
    "**``\\s``** searches for a whitespace character.<br><br>\n",
    "**``\\S``** searches for any character except whitespace character.<br><br>\n",
    "**``[]``** searches for any character present inside these square brackets.<br><br>\n",
    "**``^[]``** searches for any character not present inside these square brackets.<br><br>\n",
    "**``*``** Causes the resulting RE to match 0 or more repetitions of the preceding RE.<br><br>\n",
    "**``+``** Causes the resulting RE to match 1 or more repetitions of the preceding RE.<br><br>\n",
    "**``?``** Causes the resulting RE to match 0 or 1 repetitions of the preceding RE.<br><br>\n",
    "**``{m}``** Specifies that exactly m copies of the previous RE should be matched.<br><br>\n",
    "**``{m,n}``** Causes the resulting RE to match from m to n repetitions of the preceding RE.<br><br>\n",
    "**``|``** A|B, where A and B can be arbitrary REs, creates a regular expression that will match either A or B.<br><br>\n",
    "**``()``** Matches whatever regular expression is inside the parentheses, and indicates the start and end of a group.<br><br>\n",
    "**``^``** Matches the start of the string, and in MULTILINE mode also matches immediately after each newline.<br><br>\n",
    "**``$``** Matches the end of the string and in MULTILINE mode also matches before a newline.<br><br>\n",
    "**``re.I``** or **``re.IGNORECASE``** ignores cases.<br><br>\n",
    "**``re.X``** or **``re.VERBOSE``** allows you to write regular expressions that look nicer and are more readable by allowing you to visually separate logical sections of the pattern and add comments. Whitespace within the pattern is ignored, except when in a character class."
   ]
  },
  {
   "cell_type": "code",
   "execution_count": 1,
   "metadata": {},
   "outputs": [],
   "source": [
    "import re"
   ]
  },
  {
   "cell_type": "code",
   "execution_count": 2,
   "metadata": {},
   "outputs": [],
   "source": [
    "string=\"\"\"\n",
    "Name: Ankur Goswami\n",
    "Gender: Male\n",
    "Date of Birth: 14/01/2000\n",
    "School Name: The Baptist Convent Sr. Sec. School\n",
    "College Name: National Institue of Technology, Srinagar\n",
    "Mobile number: 9205134306, 9149971342\n",
    "E-Mail: ankurgoswami1401@gmail.com, ankurgoswami_29btech17@nitsri.net, kinglusifer1401@gmail.com\n",
    "Address: M-101, Homes-121, Opp. CNG Filing Station, Sector-121, Noida-201301, Uttar Pradesh\n",
    "\n",
    "\n",
    "Name: Kanika Goswami\n",
    "Gender: Female\n",
    "Date of Birth: 30/10/1998\n",
    "School: Kendriya Vidhyalaya Shalimar Bagh\n",
    "College: Institute Of Home Economics\n",
    "Mobile number: 9583453603\n",
    "E-mail: kanikagoswami@gmail.com\n",
    "Address: House no-945, Street no-45/4, Wazirabad Extension, Delhi -110084\n",
    "\n",
    "\n",
    "Name: Aditya Goswami\n",
    "Gender: Male\n",
    "Date of Birth: 5/02/1998\n",
    "School Name: Baptist convent Sr. Sec School.\n",
    "College name: TIAS\n",
    "Mobile number: 7835954094\n",
    "E-mail: goswamiaditya@gmail.com\n",
    "Resident Address: A-964,  Ajnara Homes 121, Sector 121 Noida 201301.\n",
    "\n",
    "\n",
    "Name: Swati Rawat\n",
    "Gender: Female\n",
    "Date of Birth: 28/09/2000\n",
    "School: The Baptist convent school\n",
    "College: Janki devi memorial college\n",
    "Mobile number:+918296407201\n",
    "Email: srawat@gmail.com\n",
    "Address: B-945 West Vinod nagar, Delhi-110092\n",
    "\n",
    "\n",
    "Name: Sambhav Jain\n",
    "Gender: Male\n",
    "Date of Birth: 16-10-1999\n",
    "School: The Baptist Convent School\n",
    "College: G.B Pant Engineering College\n",
    "Mobile number: 9717458212\n",
    "E-mail: sambhav.jainn27@gmail.com\n",
    "Address: Street No. 10, Kailash Nagar, Delhi-110031\n",
    "\n",
    "\n",
    "Name: Wajid manzoor\n",
    "Gender: Male\n",
    "DOB: 07/06/1999\n",
    "School: JNV\n",
    "College: NIT\n",
    "Mobile number: (+91)1234557890\n",
    "Email: Waj_12a@hotmail.com\n",
    "Address: Street-21 pulwama-192301\n",
    "\n",
    "\n",
    "Name:Murtaza Nazir\n",
    "Gender:Male\n",
    "Date of Birth:15/09/00\n",
    "School Name:M.E.I Pampore\n",
    "College name:NIT Hazratbal\n",
    "Mobile number:+919987655423\n",
    "E-mail:go4d@w3sxhool.co\n",
    "Resident Address: newa, pulwama, 192301\n",
    "\n",
    "\n",
    "Name: manan khanna\n",
    "Gender: male \n",
    "Dob: 24/8/1999\n",
    "School name: baptist convent \n",
    "College name: amity university noida\n",
    "Mobile no: 9958157084\n",
    "Email: manankhanna1999@gmail.com\n",
    "Address: cloud 9 society ahinsa khand 2, 201014\n",
    "\n",
    "\n",
    "Name: Gulafsha\n",
    "Gender: female\n",
    "dob: 21.12.1999\n",
    "School: Baptist convent sr sec school\n",
    "College: Janki drvi memorial college (DU)\n",
    "Mobile number: 8803499192\n",
    "Email: gulafshakhatoon@gmail.com\n",
    "Address: D-78/19 joshi colony Delhi-110092\n",
    "\n",
    "\n",
    "Name: Naveed Unjum\n",
    "Gender: Male\n",
    "Dob: 11/09/98\n",
    "School: Iqbal Memorial Institute\n",
    "College: NIT\n",
    "Mobile number: 7006262432\n",
    "Email: naveed.unjum97@gmail.com\n",
    "Address: Hyderpora, Srinagar, J&k-190014\n",
    "\n",
    "\n",
    "Name- dipanshu gupta\n",
    "Gender- male\n",
    "Date of birth-17/12/1999\n",
    "School name- baptist convent school\n",
    "College name- dr. Bhim rao ambedkar college( du )\n",
    "Mobile no-8585922747\n",
    "Email-dipanshu1799@gmail.com\n",
    "Address- 3/117, A lalita park laxmi nagar delhi-110092\n",
    "\n",
    "\n",
    "Name- Sakshi Rathi\n",
    "Gender- Female\n",
    "Date of Birth- 18.05.2002\n",
    "School Name- The Baptist  Convent School\n",
    "College name- None\n",
    "Mobile number- 8800402452\n",
    "E-mail- sakshi.rathi@gmail.com\n",
    "Resident Address- 91/171 A West Azad Nagar,Krishna Nagar ,Delhi-110051\n",
    "\n",
    "\n",
    "Name- darakshah syed\n",
    "Gender- female\n",
    "Date of Birth- 18/12/2001\n",
    "School Name- the baptist convent sr. Sec. School\n",
    "College name- DU SOL\n",
    "Mobile number- +919311261399\n",
    "E-mail- darakshahsyed@gmail.com\n",
    "Resident Address- F-92 joshi colony, delhi-110092\n",
    "\n",
    "\n",
    "Name: khushi jain\n",
    "Gender: female\n",
    "Date of Birth: 04-07-2001\n",
    "School Name: the baptist convent school\n",
    "College name: None\n",
    "Mobile number: 7620870034\n",
    "E-mail: jkhushi@gmail.com \n",
    "Resident Address: X/3456 street 4 gandhi nagar Delhi-110031\n",
    "\n",
    "\n",
    "Name: mohit jathayar\n",
    "Gender: male\n",
    "Date of Birth: 9-12-1998\n",
    "School Name: montenssori nargis dutt sr. sec. school\n",
    "College name: NIT Srinagar\n",
    "Mobile number: 9796222375\n",
    "E-mail: mohitname786@gmail.com \n",
    "Resident Address: kotli gala bana, R.S.Pura, J&K-181102\n",
    "\n",
    "Name: Muskan Bothra\n",
    "Gender: female\n",
    "Date of Birth: 8/6/1999\n",
    "School Name: The baptist convent school\n",
    "College name: Du\n",
    "Mobile number: 7896419173\n",
    "E-mail muskanbothra@gmail.com\n",
    "Resident Address: New Krishna Nagar New Delhi-110051 India\n",
    "\n",
    "Name: Soban Nasir\n",
    "dob: 08/01/1999\n",
    "gender: male\n",
    "college: NIT Srinagar\n",
    "School: \n",
    "mobile number: 7006551877\n",
    "email: sobanlone88@gmail.com\n",
    "address: Lane 11, House no 5,Umarabad Zainakote, HMT-190012\n",
    "\n",
    "Name: Rajat Raj\n",
    "Gender: Male\n",
    "Date of birth: 14/07/1998\n",
    "School name: Baptist convent senior secondary school\n",
    "College name: School of Planning And Architecture , Delhi\n",
    "Mobile Number: 9871032632\n",
    "E mail: rajatraj.1998@gmail.com\n",
    "Resident Address: A-221 jhilmil colony delhi-110095\n",
    "\n",
    "Name: Varun pandey\n",
    "Gender: Male\n",
    "dob: 14/05/1999\n",
    "school: U.p.s.s\n",
    "college: Nit srinagar\n",
    "mobile number: 9055147104\n",
    "email: varunpandey3278@gmail.com\n",
    "address: Tada,sant kabir nagar,uttar pradesh-272165\n",
    "\"\"\""
   ]
  },
  {
   "cell_type": "markdown",
   "metadata": {},
   "source": [
    "\n",
    "## Name Extraction:\n"
   ]
  },
  {
   "cell_type": "code",
   "execution_count": 3,
   "metadata": {},
   "outputs": [],
   "source": [
    "NameObject=re.compile(r'Name[:-]?\\s?(\\w+\\s?\\w*)\\n')   #Pattern for Names."
   ]
  },
  {
   "cell_type": "code",
   "execution_count": 4,
   "metadata": {},
   "outputs": [
    {
     "name": "stdout",
     "output_type": "stream",
     "text": [
      "Ankur Goswami\n",
      "Kanika Goswami\n",
      "Aditya Goswami\n",
      "Swati Rawat\n",
      "Sambhav Jain\n",
      "Wajid Manzoor\n",
      "Murtaza Nazir\n",
      "Manan Khanna\n",
      "Gulafsha\n",
      "Naveed Unjum\n",
      "Dipanshu Gupta\n",
      "Sakshi Rathi\n",
      "Darakshah Syed\n",
      "Khushi Jain\n",
      "Mohit Jathayar\n",
      "Muskan Bothra\n",
      "Soban Nasir\n",
      "Rajat Raj\n",
      "Varun Pandey\n"
     ]
    },
    {
     "data": {
      "text/plain": [
       "19"
      ]
     },
     "execution_count": 4,
     "metadata": {},
     "output_type": "execute_result"
    }
   ],
   "source": [
    "for i in NameObject.finditer(string):\n",
    "    print(i.group(1).title())\n",
    "len(list(NameObject.finditer(string)))"
   ]
  },
  {
   "cell_type": "markdown",
   "metadata": {},
   "source": [
    "## Date of Birth Extraction:\n"
   ]
  },
  {
   "cell_type": "code",
   "execution_count": 5,
   "metadata": {},
   "outputs": [],
   "source": [
    "DOBObject=re.compile(r'''(D(ate)?\\s?Of?\\s?B(irth)?\\s?)[:-]?\\s?(\\d{1,2}[./-]\\d{1,2}[./-]\\d{1,4})''',re.I)    #Pattern for DOBs."
   ]
  },
  {
   "cell_type": "code",
   "execution_count": 6,
   "metadata": {},
   "outputs": [
    {
     "name": "stdout",
     "output_type": "stream",
     "text": [
      "14/01/2000\n",
      "30/10/1998\n",
      "5/02/1998\n",
      "28/09/2000\n",
      "16-10-1999\n",
      "07/06/1999\n",
      "15/09/00\n",
      "24/8/1999\n",
      "21.12.1999\n",
      "11/09/98\n",
      "17/12/1999\n",
      "18.05.2002\n",
      "18/12/2001\n",
      "04-07-2001\n",
      "9-12-1998\n",
      "8/6/1999\n",
      "08/01/1999\n",
      "14/07/1998\n",
      "14/05/1999\n"
     ]
    },
    {
     "data": {
      "text/plain": [
       "19"
      ]
     },
     "execution_count": 6,
     "metadata": {},
     "output_type": "execute_result"
    }
   ],
   "source": [
    "for i in DOBObject.finditer(string):\n",
    "    print(i.group(4).title())\n",
    "len(list(DOBObject.finditer(string)))"
   ]
  },
  {
   "cell_type": "markdown",
   "metadata": {},
   "source": [
    "## Gender Extraction:"
   ]
  },
  {
   "cell_type": "code",
   "execution_count": 7,
   "metadata": {},
   "outputs": [],
   "source": [
    "GenderObject=re.compile(r'Gender[:-]?\\s?(\\w+)',re.I)   #Pattern for Gender."
   ]
  },
  {
   "cell_type": "code",
   "execution_count": 8,
   "metadata": {},
   "outputs": [
    {
     "name": "stdout",
     "output_type": "stream",
     "text": [
      "Male\n",
      "Female\n",
      "Male\n",
      "Female\n",
      "Male\n",
      "Male\n",
      "Male\n",
      "Male\n",
      "Female\n",
      "Male\n",
      "Male\n",
      "Female\n",
      "Female\n",
      "Female\n",
      "Male\n",
      "Female\n",
      "Male\n",
      "Male\n",
      "Male\n"
     ]
    },
    {
     "data": {
      "text/plain": [
       "19"
      ]
     },
     "execution_count": 8,
     "metadata": {},
     "output_type": "execute_result"
    }
   ],
   "source": [
    "for i in GenderObject.finditer(string):\n",
    "    print(i.group(1).title())\n",
    "len(list(GenderObject.finditer(string)))"
   ]
  },
  {
   "cell_type": "markdown",
   "metadata": {},
   "source": [
    "## Phone Number Extraction:"
   ]
  },
  {
   "cell_type": "code",
   "execution_count": 9,
   "metadata": {},
   "outputs": [],
   "source": [
    "PhoneObject=re.compile(r'(\\+\\d\\d)?(\\d{9})')    #Pattern for phone numbers."
   ]
  },
  {
   "cell_type": "code",
   "execution_count": 10,
   "metadata": {},
   "outputs": [
    {
     "name": "stdout",
     "output_type": "stream",
     "text": [
      "920513430\n",
      "914997134\n",
      "958345360\n",
      "783595409\n",
      "829640720\n",
      "971745821\n",
      "123455789\n",
      "998765542\n",
      "995815708\n",
      "880349919\n",
      "700626243\n",
      "858592274\n",
      "880040245\n",
      "931126139\n",
      "762087003\n",
      "979622237\n",
      "789641917\n",
      "700655187\n",
      "987103263\n",
      "905514710\n"
     ]
    },
    {
     "data": {
      "text/plain": [
       "20"
      ]
     },
     "execution_count": 10,
     "metadata": {},
     "output_type": "execute_result"
    }
   ],
   "source": [
    "for i in PhoneObject.finditer(string):\n",
    "    print(int(i.group(2)))\n",
    "len(list(PhoneObject.finditer(string)))"
   ]
  },
  {
   "cell_type": "markdown",
   "metadata": {},
   "source": [
    "## Email Extraction:"
   ]
  },
  {
   "cell_type": "code",
   "execution_count": 11,
   "metadata": {},
   "outputs": [],
   "source": [
    "MailObject=re.compile(r'[a-zA-Z0-9_.]+@\\w+\\.(com|net|edu|co.in|in|gov.in|co)')    #Pattern for E-Mails."
   ]
  },
  {
   "cell_type": "code",
   "execution_count": 12,
   "metadata": {},
   "outputs": [
    {
     "name": "stdout",
     "output_type": "stream",
     "text": [
      "ankurgoswami1401@gmail.com\n",
      "ankurgoswami_29btech17@nitsri.net\n",
      "kinglusifer1401@gmail.com\n",
      "kanikagoswami@gmail.com\n",
      "goswamiaditya@gmail.com\n",
      "srawat@gmail.com\n",
      "sambhav.jainn27@gmail.com\n",
      "waj_12a@hotmail.com\n",
      "go4d@w3sxhool.co\n",
      "manankhanna1999@gmail.com\n",
      "gulafshakhatoon@gmail.com\n",
      "naveed.unjum97@gmail.com\n",
      "dipanshu1799@gmail.com\n",
      "sakshi.rathi@gmail.com\n",
      "darakshahsyed@gmail.com\n",
      "jkhushi@gmail.com\n",
      "mohitname786@gmail.com\n",
      "muskanbothra@gmail.com\n",
      "sobanlone88@gmail.com\n",
      "rajatraj.1998@gmail.com\n",
      "varunpandey3278@gmail.com\n"
     ]
    },
    {
     "data": {
      "text/plain": [
       "21"
      ]
     },
     "execution_count": 12,
     "metadata": {},
     "output_type": "execute_result"
    }
   ],
   "source": [
    "for i in MailObject.finditer(string):\n",
    "    print(i.group(0).lower())\n",
    "len(list(MailObject.finditer(string)))"
   ]
  },
  {
   "cell_type": "markdown",
   "metadata": {},
   "source": [
    "## School Extraction:"
   ]
  },
  {
   "cell_type": "code",
   "execution_count": 13,
   "metadata": {},
   "outputs": [],
   "source": [
    "SchoolObject=re.compile(r'\\n(school)\\s?(name)?[:-]?\\s?([^\\n]+)',re.I)    #Pattern for School Names."
   ]
  },
  {
   "cell_type": "code",
   "execution_count": 14,
   "metadata": {},
   "outputs": [
    {
     "name": "stdout",
     "output_type": "stream",
     "text": [
      "The Baptist Convent Sr. Sec. School\n",
      "Kendriya Vidhyalaya Shalimar Bagh\n",
      "Baptist Convent Sr. Sec School.\n",
      "The Baptist Convent School\n",
      "The Baptist Convent School\n",
      "Jnv\n",
      "M.E.I Pampore\n",
      "Baptist Convent \n",
      "Baptist Convent Sr Sec School\n",
      "Iqbal Memorial Institute\n",
      "Baptist Convent School\n",
      "The Baptist  Convent School\n",
      "The Baptist Convent Sr. Sec. School\n",
      "The Baptist Convent School\n",
      "Montenssori Nargis Dutt Sr. Sec. School\n",
      "The Baptist Convent School\n",
      " \n",
      "Baptist Convent Senior Secondary School\n",
      "U.P.S.S\n"
     ]
    },
    {
     "data": {
      "text/plain": [
       "19"
      ]
     },
     "execution_count": 14,
     "metadata": {},
     "output_type": "execute_result"
    }
   ],
   "source": [
    "for i in SchoolObject.finditer(string):\n",
    "    print(i.group(3).title())\n",
    "len(list(SchoolObject.finditer(string)))"
   ]
  },
  {
   "cell_type": "markdown",
   "metadata": {},
   "source": [
    "## College Extraction:"
   ]
  },
  {
   "cell_type": "code",
   "execution_count": 15,
   "metadata": {},
   "outputs": [],
   "source": [
    "CollegeObject=re.compile(r'(college)\\s?(name)?[:-]?\\s?([^\\n]+)',re.I)    #Pattern for College Names."
   ]
  },
  {
   "cell_type": "code",
   "execution_count": 16,
   "metadata": {},
   "outputs": [
    {
     "name": "stdout",
     "output_type": "stream",
     "text": [
      "National Institue Of Technology, Srinagar\n",
      "Institute Of Home Economics\n",
      "Tias\n",
      "Janki Devi Memorial College\n",
      "G.B Pant Engineering College\n",
      "Nit\n",
      "Nit Hazratbal\n",
      "Amity University Noida\n",
      "Janki Drvi Memorial College (Du)\n",
      "Nit\n",
      "Dr. Bhim Rao Ambedkar College( Du )\n",
      "None\n",
      "Du Sol\n",
      "None\n",
      "Nit Srinagar\n",
      "Du\n",
      "Nit Srinagar\n",
      "School Of Planning And Architecture , Delhi\n",
      "Nit Srinagar\n"
     ]
    },
    {
     "data": {
      "text/plain": [
       "19"
      ]
     },
     "execution_count": 16,
     "metadata": {},
     "output_type": "execute_result"
    }
   ],
   "source": [
    "for i in CollegeObject.finditer(string):\n",
    "    print(i.group(3).title())\n",
    "len(list(CollegeObject.finditer(string)))"
   ]
  },
  {
   "cell_type": "markdown",
   "metadata": {},
   "source": [
    "## Address Extraction:"
   ]
  },
  {
   "cell_type": "code",
   "execution_count": 17,
   "metadata": {},
   "outputs": [],
   "source": [
    "AddressObject=re.compile(r'(residential )?address[-:]?\\s?([^\\n]+)',re.I)    #Pattern for Address."
   ]
  },
  {
   "cell_type": "code",
   "execution_count": 18,
   "metadata": {},
   "outputs": [
    {
     "name": "stdout",
     "output_type": "stream",
     "text": [
      "M-101, Homes-121, Opp. Cng Filing Station, Sector-121, Noida-201301, Uttar Pradesh\n",
      "House No-945, Street No-45/4, Wazirabad Extension, Delhi -110084\n",
      "A-964,  Ajnara Homes 121, Sector 121 Noida 201301.\n",
      "B-945 West Vinod Nagar, Delhi-110092\n",
      "Street No. 10, Kailash Nagar, Delhi-110031\n",
      "Street-21 Pulwama-192301\n",
      "Newa, Pulwama, 192301\n",
      "Cloud 9 Society Ahinsa Khand 2, 201014\n",
      "D-78/19 Joshi Colony Delhi-110092\n",
      "Hyderpora, Srinagar, J&K-190014\n",
      "3/117, A Lalita Park Laxmi Nagar Delhi-110092\n",
      "91/171 A West Azad Nagar,Krishna Nagar ,Delhi-110051\n",
      "F-92 Joshi Colony, Delhi-110092\n",
      "X/3456 Street 4 Gandhi Nagar Delhi-110031\n",
      "Kotli Gala Bana, R.S.Pura, J&K-181102\n",
      "New Krishna Nagar New Delhi-110051 India\n",
      "Lane 11, House No 5,Umarabad Zainakote, Hmt-190012\n",
      "A-221 Jhilmil Colony Delhi-110095\n",
      "Tada,Sant Kabir Nagar,Uttar Pradesh-272165\n"
     ]
    },
    {
     "data": {
      "text/plain": [
       "19"
      ]
     },
     "execution_count": 18,
     "metadata": {},
     "output_type": "execute_result"
    }
   ],
   "source": [
    "for i in AddressObject.finditer(string):\n",
    "    print(i.group(2).title())\n",
    "len(list(AddressObject.finditer(string)))"
   ]
  },
  {
   "cell_type": "markdown",
   "metadata": {},
   "source": [
    "## Pincode Extraction:"
   ]
  },
  {
   "cell_type": "code",
   "execution_count": 19,
   "metadata": {},
   "outputs": [],
   "source": [
    "PincodeObject=re.compile(r'\\W(\\d{6})\\W',re.I)    #Pattern for Pincodes."
   ]
  },
  {
   "cell_type": "code",
   "execution_count": 20,
   "metadata": {
    "scrolled": true
   },
   "outputs": [
    {
     "name": "stdout",
     "output_type": "stream",
     "text": [
      "201301\n",
      "110084\n",
      "201301\n",
      "110092\n",
      "110031\n",
      "192301\n",
      "192301\n",
      "201014\n",
      "110092\n",
      "190014\n",
      "110092\n",
      "110051\n",
      "110092\n",
      "110031\n",
      "181102\n",
      "110051\n",
      "190012\n",
      "110095\n",
      "272165\n"
     ]
    },
    {
     "data": {
      "text/plain": [
       "19"
      ]
     },
     "execution_count": 20,
     "metadata": {},
     "output_type": "execute_result"
    }
   ],
   "source": [
    "for i in PincodeObject.finditer(string):\n",
    "    print(i.group(1).title())\n",
    "len(list(PincodeObject.finditer(string)))"
   ]
  },
  {
   "cell_type": "code",
   "execution_count": 21,
   "metadata": {},
   "outputs": [],
   "source": [
    "a=list(map(int,PincodeObject.findall(string)))"
   ]
  },
  {
   "cell_type": "code",
   "execution_count": 22,
   "metadata": {},
   "outputs": [],
   "source": [
    "def StateByPincode(Pincodes):\n",
    "    Value=[0 for i in range(20)]\n",
    "    for i in range(len(Pincodes)):\n",
    "        if 110000<=Pincodes[i]<=119999:\n",
    "            Value[0]+=1\n",
    "        elif 120000<=Pincodes[i]<=139999:\n",
    "            Value[1]+=1\n",
    "        elif 140000<=Pincodes[i]<=169999:\n",
    "            Value[2]+=1\n",
    "        elif 170000<=Pincodes[i]<=179999:\n",
    "            Value[3]+=1\n",
    "        elif 180000<=Pincodes[i]<=199999:\n",
    "            Value[4]+=1\n",
    "        elif 200000<=Pincodes[i]<=289999:\n",
    "            Value[5]+=1\n",
    "        elif 300000<=Pincodes[i]<=349999:\n",
    "            Value[6]+=1\n",
    "        elif 360000<=Pincodes[i]<=399999:\n",
    "            Value[7]+=1\n",
    "        elif 400000<=Pincodes[i]<=449999:\n",
    "            Value[8]+=1\n",
    "        elif 450000<=Pincodes[i]<=499999:\n",
    "            Value[9]+=1\n",
    "        elif 500000<=Pincodes[i]<=539999:\n",
    "            Value[10]+=1\n",
    "        elif 560000<=Pincodes[i]<=599999:\n",
    "            Value[11]+=1\n",
    "        elif 600000<=Pincodes[i]<=649999:\n",
    "            Value[12]+=1\n",
    "        elif 670000<=Pincodes[i]<=699999:\n",
    "            Value[13]+=1\n",
    "        elif 700000<=Pincodes[i]<=749999:\n",
    "            Value[14]+=1\n",
    "        elif 750000<=Pincodes[i]<=779999:\n",
    "            Value[15]+=1\n",
    "        elif 780000<=Pincodes[i]<=789999:\n",
    "            Value[16]+=1\n",
    "        elif 790000<=Pincodes[i]<=799999:\n",
    "            Value[17]+=1\n",
    "        elif 800000<=Pincodes[i]<=859999:\n",
    "            Value[18]+=1\n",
    "        elif 900000<=Pincodes[i]<=999999:\n",
    "            Value[19]+=1\n",
    "    return Value"
   ]
  },
  {
   "cell_type": "code",
   "execution_count": 23,
   "metadata": {},
   "outputs": [],
   "source": [
    "Labels=['Delhi','Haryana','Punjab','Himachal Pradesh','Jammu & Kashmir','Uttar Pradesh & Uttrakhand','Rajasthan','Gujarat','Maharashtra','Madhya Pradesh & Chattisgarh','Andhra Pradesh & Telangana','Karnataka','Tamil Nadu','Kerala','West Bengal','Orissa','Assam','North Eastern','Bihar & Jharkhand','Army Postal Service']"
   ]
  },
  {
   "cell_type": "code",
   "execution_count": 24,
   "metadata": {},
   "outputs": [
    {
     "data": {
      "text/plain": [
       "[10, 0, 0, 0, 5, 4, 0, 0, 0, 0, 0, 0, 0, 0, 0, 0, 0, 0, 0, 0]"
      ]
     },
     "execution_count": 24,
     "metadata": {},
     "output_type": "execute_result"
    }
   ],
   "source": [
    "StateByPincode(a)"
   ]
  },
  {
   "cell_type": "code",
   "execution_count": 26,
   "metadata": {},
   "outputs": [
    {
     "name": "stderr",
     "output_type": "stream",
     "text": [
      "C:\\Users\\AnkurGoswami\\AppData\\Local\\Continuum\\anaconda3\\lib\\site-packages\\ipykernel_launcher.py:5: UserWarning: You have mixed positional and keyword arguments, some input may be discarded.\n",
      "  \"\"\"\n"
     ]
    },
    {
     "data": {
      "image/png": "[encoded data removed]",
      "text/plain": [
       "<Figure size 1080x720 with 1 Axes>"
      ]
     },
     "metadata": {},
     "output_type": "display_data"
    }
   ],
   "source": [
    "import matplotlib.pyplot as plt\n",
    "plt.figure(figsize=(15,10))\n",
    "patches,text=plt.pie(StateByPincode(a),shadow=True, startangle=90)\n",
    "plt.axis('equal')\n",
    "plt.legend(patches, labels=Labels,loc=9, bbox_to_anchor=(1.25, 1))\n",
    "plt.show()"
   ]
  }
 ],
 "metadata": {
  "kernelspec": {
   "display_name": "Python 3",
   "language": "python",
   "name": "python3"
  },
  "language_info": {
   "codemirror_mode": {
    "name": "ipython",
    "version": 3
   },
   "file_extension": ".py",
   "mimetype": "text/x-python",
   "name": "python",
   "nbconvert_exporter": "python",
   "pygments_lexer": "ipython3",
   "version": "3.7.3"
  }
 },
 "nbformat": 4,
 "nbformat_minor": 4
}
